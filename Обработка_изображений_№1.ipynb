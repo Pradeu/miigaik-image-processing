{
  "nbformat": 4,
  "nbformat_minor": 0,
  "metadata": {
    "colab": {
      "provenance": [],
      "mount_file_id": "120g7P-_yQsy2MFiwIbUZfLs0AOc5zNkj",
      "authorship_tag": "ABX9TyP4OyelAlzD/VKcXCieGw4v",
      "include_colab_link": true
    },
    "kernelspec": {
      "name": "python3",
      "display_name": "Python 3"
    },
    "language_info": {
      "name": "python"
    }
  },
  "cells": [
    {
      "cell_type": "markdown",
      "metadata": {
        "id": "view-in-github",
        "colab_type": "text"
      },
      "source": [
        "<a href=\"https://colab.research.google.com/github/Pradeu/miigaik-image-processing/blob/main/%D0%9E%D0%B1%D1%80%D0%B0%D0%B1%D0%BE%D1%82%D0%BA%D0%B0_%D0%B8%D0%B7%D0%BE%D0%B1%D1%80%D0%B0%D0%B6%D0%B5%D0%BD%D0%B8%D0%B9_%E2%84%961.ipynb\" target=\"_parent\"><img src=\"https://colab.research.google.com/assets/colab-badge.svg\" alt=\"Open In Colab\"/></a>"
      ]
    },
    {
      "cell_type": "code",
      "execution_count": 2,
      "metadata": {
        "id": "O0K2c6QbSLDZ"
      },
      "outputs": [],
      "source": [
        "import numpy as np\n",
        "import cv2"
      ]
    },
    {
      "cell_type": "code",
      "source": [
        "img_src = cv2.imread('1.JPG')\n",
        "kernel = np.array([[1, 1, 1, 1, 1],\n",
        " [1, 1, 1, 1, 1],\n",
        " [1, 1, 1, 1, 1],\n",
        " [1, 1, 1, 1, 1],\n",
        " [1, 1, 1, 1, 1]])\n",
        "kernel = kernel/(np.sum(kernel) if np.sum(kernel)!=0 else 1)\n",
        "img_rst = cv2.filter2D(img_src,-1,kernel)\n",
        "cv2.imwrite('result_1.jpg',img_rst)"
      ],
      "metadata": {
        "colab": {
          "base_uri": "https://localhost:8080/"
        },
        "id": "vXVYeOLxrjiu",
        "outputId": "773407e8-c36e-48d1-ab97-a62eca293a60"
      },
      "execution_count": 3,
      "outputs": [
        {
          "output_type": "execute_result",
          "data": {
            "text/plain": [
              "True"
            ]
          },
          "metadata": {},
          "execution_count": 3
        }
      ]
    },
    {
      "cell_type": "code",
      "source": [
        "img_src = cv2.imread('1.JPG')\n",
        "kernel = np.array([[0.0, -1.0, 0.0],\n",
        " [-1.0, 4.0, -1.0],\n",
        " [0.0, -1.0, 0.0]])\n",
        "kernel = kernel/(np.sum(kernel) if np.sum(kernel)!=0 else 1)\n",
        "img_rst = cv2.filter2D(img_src,-1,kernel)\n",
        "cv2.imwrite('result_1_1.jpg',img_rst)"
      ],
      "metadata": {
        "colab": {
          "base_uri": "https://localhost:8080/"
        },
        "id": "EUPohq-8vJw7",
        "outputId": "6f2d1427-1a97-446e-a1f3-554b82eec514"
      },
      "execution_count": 4,
      "outputs": [
        {
          "output_type": "execute_result",
          "data": {
            "text/plain": [
              "True"
            ]
          },
          "metadata": {},
          "execution_count": 4
        }
      ]
    },
    {
      "cell_type": "code",
      "source": [
        "img_src = cv2.imread('1.JPG')\n",
        "kernel = np.array([[-1, 0, 1, -3, 2],\n",
        " [4, -3, 1, 0, 0],\n",
        " [3, -5, 1, 2, -1]])\n",
        "kernel = kernel/(np.sum(kernel) if np.sum(kernel)!=0 else 1)\n",
        "img_rst = cv2.filter2D(img_src,-1,kernel)\n",
        "cv2.imwrite('result_1_custom.jpg',img_rst)"
      ],
      "metadata": {
        "colab": {
          "base_uri": "https://localhost:8080/"
        },
        "id": "E8VF3L6Mw6kS",
        "outputId": "83c13569-515f-487d-8a9e-740f8581e551"
      },
      "execution_count": 5,
      "outputs": [
        {
          "output_type": "execute_result",
          "data": {
            "text/plain": [
              "True"
            ]
          },
          "metadata": {},
          "execution_count": 5
        }
      ]
    },
    {
      "cell_type": "code",
      "source": [
        "img_src = cv2.imread('2.jpg')\n",
        "kernel = np.array([[1, 1, 1, 1, 1],\n",
        " [1, 1, 1, 1, 1],\n",
        " [1, 1, 1, 1, 1],\n",
        " [1, 1, 1, 1, 1],\n",
        " [1, 1, 1, 1, 1]])\n",
        "kernel = kernel/(np.sum(kernel) if np.sum(kernel)!=0 else 1)\n",
        "img_rst = cv2.filter2D(img_src,-1,kernel)\n",
        "cv2.imwrite('result_2.jpg',img_rst)"
      ],
      "metadata": {
        "colab": {
          "base_uri": "https://localhost:8080/"
        },
        "id": "elzC_cAPrjbI",
        "outputId": "37941f6c-dac0-4e52-90b7-efd42b90070a"
      },
      "execution_count": 6,
      "outputs": [
        {
          "output_type": "execute_result",
          "data": {
            "text/plain": [
              "True"
            ]
          },
          "metadata": {},
          "execution_count": 6
        }
      ]
    },
    {
      "cell_type": "code",
      "source": [
        "img_src = cv2.imread('2.jpg')\n",
        "kernel = np.array([[0.0, -1.0, 0.0],\n",
        " [-1.0, 4.0, -1.0],\n",
        " [0.0, -1.0, 0.0]])\n",
        "kernel = kernel/(np.sum(kernel) if np.sum(kernel)!=0 else 1)\n",
        "img_rst = cv2.filter2D(img_src,-1,kernel)\n",
        "cv2.imwrite('result_2_2.jpg',img_rst)"
      ],
      "metadata": {
        "colab": {
          "base_uri": "https://localhost:8080/"
        },
        "id": "Z3m5lNWevqHG",
        "outputId": "188e7e36-baa7-495f-8869-1e382f28e34e"
      },
      "execution_count": 7,
      "outputs": [
        {
          "output_type": "execute_result",
          "data": {
            "text/plain": [
              "True"
            ]
          },
          "metadata": {},
          "execution_count": 7
        }
      ]
    },
    {
      "cell_type": "code",
      "source": [
        "img_src = cv2.imread('2.jpg')\n",
        "kernel = np.array([[-1, 0, 1, -3, 2],\n",
        " [4, -3, 1, 0, 0],\n",
        " [3, -5, 1, 2, -1]])\n",
        "kernel = kernel/(np.sum(kernel) if np.sum(kernel)!=0 else 1)\n",
        "img_rst = cv2.filter2D(img_src,-1,kernel)\n",
        "cv2.imwrite('result_2_custom.jpg',img_rst)"
      ],
      "metadata": {
        "colab": {
          "base_uri": "https://localhost:8080/"
        },
        "id": "0ayIbgY-q9eC",
        "outputId": "cb348220-8a21-4573-c4f5-0c4b5dbd2dde"
      },
      "execution_count": 9,
      "outputs": [
        {
          "output_type": "execute_result",
          "data": {
            "text/plain": [
              "True"
            ]
          },
          "metadata": {},
          "execution_count": 9
        }
      ]
    },
    {
      "cell_type": "code",
      "source": [
        "img_src = cv2.imread('3.jpg')\n",
        "kernel = np.array([[1, 1, 1, 1, 1],\n",
        " [1, 1, 1, 1, 1],\n",
        " [1, 1, 1, 1, 1],\n",
        " [1, 1, 1, 1, 1],\n",
        " [1, 1, 1, 1, 1]])\n",
        "kernel = kernel/(np.sum(kernel) if np.sum(kernel)!=0 else 1)\n",
        "img_rst = cv2.filter2D(img_src,-1,kernel)\n",
        "cv2.imwrite('result_3.jpg',img_rst)"
      ],
      "metadata": {
        "colab": {
          "base_uri": "https://localhost:8080/"
        },
        "id": "jFmE2E9Jr0RK",
        "outputId": "5b6b1d6f-8257-4609-fa57-3c775d860b14"
      },
      "execution_count": 8,
      "outputs": [
        {
          "output_type": "execute_result",
          "data": {
            "text/plain": [
              "True"
            ]
          },
          "metadata": {},
          "execution_count": 8
        }
      ]
    },
    {
      "cell_type": "code",
      "source": [
        "img_src = cv2.imread('3.jpg')\n",
        "kernel = np.array([[0.0, -1.0, 0.0],\n",
        " [-1.0, 4.0, -1.0],\n",
        " [0.0, -1.0, 0.0]])\n",
        "kernel = kernel/(np.sum(kernel) if np.sum(kernel)!=0 else 1)\n",
        "img_rst = cv2.filter2D(img_src,-1,kernel)\n",
        "cv2.imwrite('result_3_3.jpg',img_rst)"
      ],
      "metadata": {
        "id": "v3hxvDp_vr_9",
        "colab": {
          "base_uri": "https://localhost:8080/"
        },
        "outputId": "593d4882-1800-4e96-87ac-60dc103352fb"
      },
      "execution_count": 10,
      "outputs": [
        {
          "output_type": "execute_result",
          "data": {
            "text/plain": [
              "True"
            ]
          },
          "metadata": {},
          "execution_count": 10
        }
      ]
    },
    {
      "cell_type": "code",
      "source": [
        "img_src = cv2.imread('3.jpg')\n",
        "kernel = np.array([[-1, 0, 1, -3, 2],\n",
        " [4, -3, 1, 0, 0],\n",
        " [3, -5, 1, 2, -1]])\n",
        "kernel = kernel/(np.sum(kernel) if np.sum(kernel)!=0 else 1)\n",
        "img_rst = cv2.filter2D(img_src,-1,kernel)\n",
        "cv2.imwrite('result_3_custom.jpg',img_rst)"
      ],
      "metadata": {
        "colab": {
          "base_uri": "https://localhost:8080/"
        },
        "id": "YM7vlwSErA5I",
        "outputId": "f175d065-2fc0-48d4-c108-33e51c1b770b"
      },
      "execution_count": 11,
      "outputs": [
        {
          "output_type": "execute_result",
          "data": {
            "text/plain": [
              "True"
            ]
          },
          "metadata": {},
          "execution_count": 11
        }
      ]
    },
    {
      "cell_type": "code",
      "source": [
        "img_src = cv2.imread('4.jpg')\n",
        "kernel = np.array([[1, 1, 1, 1, 1],\n",
        " [1, 1, 1, 1, 1],\n",
        " [1, 1, 1, 1, 1],\n",
        " [1, 1, 1, 1, 1],\n",
        " [1, 1, 1, 1, 1]])\n",
        "kernel = kernel/(np.sum(kernel) if np.sum(kernel)!=0 else 1)\n",
        "img_rst = cv2.filter2D(img_src,-1,kernel)\n",
        "cv2.imwrite('result_4.jpg',img_rst)"
      ],
      "metadata": {
        "colab": {
          "base_uri": "https://localhost:8080/"
        },
        "id": "mhdScgYSr4-L",
        "outputId": "039be1ce-6c1e-4f1a-a6ed-f3f1580b2347"
      },
      "execution_count": 12,
      "outputs": [
        {
          "output_type": "execute_result",
          "data": {
            "text/plain": [
              "True"
            ]
          },
          "metadata": {},
          "execution_count": 12
        }
      ]
    },
    {
      "cell_type": "code",
      "source": [
        "img_src = cv2.imread('4.jpg')\n",
        "kernel = np.array([[0.0, -1.0, 0.0],\n",
        " [-1.0, 4.0, -1.0],\n",
        " [0.0, -1.0, 0.0]])\n",
        "kernel = kernel/(np.sum(kernel) if np.sum(kernel)!=0 else 1)\n",
        "img_rst = cv2.filter2D(img_src,-1,kernel)\n",
        "cv2.imwrite('result_4_4.jpg',img_rst)"
      ],
      "metadata": {
        "colab": {
          "base_uri": "https://localhost:8080/"
        },
        "id": "4hhr_-TQvt9C",
        "outputId": "051c0042-b6ba-4eaf-fafd-b47f300b1937"
      },
      "execution_count": 13,
      "outputs": [
        {
          "output_type": "execute_result",
          "data": {
            "text/plain": [
              "True"
            ]
          },
          "metadata": {},
          "execution_count": 13
        }
      ]
    },
    {
      "cell_type": "code",
      "source": [
        "img_src = cv2.imread('4.jpg')\n",
        "kernel = np.array([[-1, 0, 1, -3, 2],\n",
        " [4, -3, 1, 0, 0],\n",
        " [3, -5, 1, 2, -1]])\n",
        "kernel = kernel/(np.sum(kernel) if np.sum(kernel)!=0 else 1)\n",
        "img_rst = cv2.filter2D(img_src,-1,kernel)\n",
        "cv2.imwrite('result_4_custom.jpg',img_rst)"
      ],
      "metadata": {
        "colab": {
          "base_uri": "https://localhost:8080/"
        },
        "id": "ADsfukEOrHse",
        "outputId": "fc8cc96b-5e40-40f5-afb6-d7998d9e1140"
      },
      "execution_count": 14,
      "outputs": [
        {
          "output_type": "execute_result",
          "data": {
            "text/plain": [
              "True"
            ]
          },
          "metadata": {},
          "execution_count": 14
        }
      ]
    },
    {
      "cell_type": "code",
      "source": [
        "img_src = cv2.imread('5.JPG')\n",
        "kernel = np.array([[1, 1, 1, 1, 1],\n",
        " [1, 1, 1, 1, 1],\n",
        " [1, 1, 1, 1, 1],\n",
        " [1, 1, 1, 1, 1],\n",
        " [1, 1, 1, 1, 1]])\n",
        "kernel = kernel/(np.sum(kernel) if np.sum(kernel)!=0 else 1)\n",
        "img_rst = cv2.filter2D(img_src,-1,kernel)\n",
        "cv2.imwrite('result_5.jpg',img_rst)"
      ],
      "metadata": {
        "colab": {
          "base_uri": "https://localhost:8080/"
        },
        "id": "r1Keu_2Br8RR",
        "outputId": "37a3a9ba-813b-41a5-9123-c012992e1dd0"
      },
      "execution_count": 15,
      "outputs": [
        {
          "output_type": "execute_result",
          "data": {
            "text/plain": [
              "True"
            ]
          },
          "metadata": {},
          "execution_count": 15
        }
      ]
    },
    {
      "cell_type": "code",
      "source": [
        "img_src = cv2.imread('5.JPG')\n",
        "kernel = np.array([[0.0, -1.0, 0.0],\n",
        " [-1.0, 4.0, -1.0],\n",
        " [0.0, -1.0, 0.0]])\n",
        "kernel = kernel/(np.sum(kernel) if np.sum(kernel)!=0 else 1)\n",
        "img_rst = cv2.filter2D(img_src,-1,kernel)\n",
        "cv2.imwrite('result_5_5.jpg',img_rst)"
      ],
      "metadata": {
        "colab": {
          "base_uri": "https://localhost:8080/"
        },
        "id": "s60n4Svmvzey",
        "outputId": "dd45dd6a-354c-4243-d0fb-5b42200f0936"
      },
      "execution_count": 16,
      "outputs": [
        {
          "output_type": "execute_result",
          "data": {
            "text/plain": [
              "True"
            ]
          },
          "metadata": {},
          "execution_count": 16
        }
      ]
    },
    {
      "cell_type": "code",
      "source": [
        "img_src = cv2.imread('5.JPG')\n",
        "kernel = np.array([[-1, 0, 1, -3, 2],\n",
        " [4, -3, 1, 0, 0],\n",
        " [3, -5, 1, 2, -1]])\n",
        "kernel = kernel/(np.sum(kernel) if np.sum(kernel)!=0 else 1)\n",
        "img_rst = cv2.filter2D(img_src,-1,kernel)\n",
        "cv2.imwrite('result_5_custom.jpg',img_rst)"
      ],
      "metadata": {
        "colab": {
          "base_uri": "https://localhost:8080/"
        },
        "id": "yyNzi5_FrKEN",
        "outputId": "f7e95a6a-5d5a-486b-8816-bec2b39d1d79"
      },
      "execution_count": 21,
      "outputs": [
        {
          "output_type": "execute_result",
          "data": {
            "text/plain": [
              "True"
            ]
          },
          "metadata": {},
          "execution_count": 21
        }
      ]
    }
  ]
}